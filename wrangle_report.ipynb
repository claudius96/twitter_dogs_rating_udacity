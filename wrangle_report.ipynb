{
 "cells": [
  {
   "cell_type": "markdown",
   "metadata": {},
   "source": [
    "## Reporting: wragle_report\n"
   ]
  },
  {
   "cell_type": "markdown",
   "metadata": {},
   "source": [
    "I had three datasets to work with the first twitter_archive dataset, twitter API data and image predictions tsv file. I first gathered all these data twitter_archive dataset, image_predictions and twitter API datasets I used requests method to download all them as files in my working directory.\n",
    "\n",
    "From the gathering process I assessed these datasets. I was able to find couple number of problems in the dataset which include misrepresented data types, rating denominators below and above 10 whilst they're supposed to 10, I noticed tidness issues where variable is to form a column but 1 variable had formed many columns.\n",
    "\n",
    "from the assessment of the data I then cleaned the data,I placed doggo, floofer, pupper and puppo into a single column  which i named dog stages. I changed timestamp datatype from object to datetime. I made sure that rating denominators where equal to 10 for all the rows in the dataset."
   ]
  }
 ],
 "metadata": {
  "kernelspec": {
   "display_name": "Python 3",
   "language": "python",
   "name": "python3"
  },
  "language_info": {
   "codemirror_mode": {
    "name": "ipython",
    "version": 3
   },
   "file_extension": ".py",
   "mimetype": "text/x-python",
   "name": "python",
   "nbconvert_exporter": "python",
   "pygments_lexer": "ipython3",
   "version": "3.6.3"
  }
 },
 "nbformat": 4,
 "nbformat_minor": 2
}
